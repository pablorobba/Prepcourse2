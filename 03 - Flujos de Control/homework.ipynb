{
 "cells": [
  {
   "attachments": {},
   "cell_type": "markdown",
   "metadata": {},
   "source": [
    "1)"
   ]
  },
  {
   "cell_type": "code",
   "execution_count": 9,
   "metadata": {},
   "outputs": [
    {
     "name": "stdout",
     "output_type": "stream",
     "text": [
      "es mayor\n"
     ]
    }
   ],
   "source": [
    "numero = 1\n",
    "if numero >= 0:\n",
    "    print (\"es mayor\")"
   ]
  },
  {
   "attachments": {},
   "cell_type": "markdown",
   "metadata": {},
   "source": [
    "2)"
   ]
  },
  {
   "cell_type": "code",
   "execution_count": 5,
   "metadata": {},
   "outputs": [
    {
     "name": "stdout",
     "output_type": "stream",
     "text": [
      "son distintos\n"
     ]
    }
   ],
   "source": [
    "numero = 2\n",
    "hola = \"hola\"\n",
    "if type(numero) == type(hola):\n",
    "    print (\"son el mismo\")\n",
    "else:\n",
    "    print (\"son distintos\")"
   ]
  },
  {
   "attachments": {},
   "cell_type": "markdown",
   "metadata": {},
   "source": [
    "3)"
   ]
  },
  {
   "cell_type": "code",
   "execution_count": 8,
   "metadata": {},
   "outputs": [
    {
     "name": "stdout",
     "output_type": "stream",
     "text": [
      "el numero 1 no es par\n",
      "el numero 2 es par\n",
      "el numero 3 no es par\n",
      "el numero 4 es par\n",
      "el numero 5 no es par\n",
      "el numero 6 es par\n",
      "el numero 7 no es par\n",
      "el numero 8 es par\n",
      "el numero 9 no es par\n",
      "el numero 10 es par\n",
      "el numero 11 no es par\n",
      "el numero 12 es par\n",
      "el numero 13 no es par\n",
      "el numero 14 es par\n",
      "el numero 15 no es par\n",
      "el numero 16 es par\n",
      "el numero 17 no es par\n",
      "el numero 18 es par\n",
      "el numero 19 no es par\n",
      "el numero 20 es par\n"
     ]
    }
   ],
   "source": [
    "for n in range (1,21):\n",
    "    if n % 2 == 0:\n",
    "        print (f\"el numero {n} es par\")\n",
    "    else:\n",
    "        print (f\"el numero {n} no es par\")"
   ]
  },
  {
   "attachments": {},
   "cell_type": "markdown",
   "metadata": {},
   "source": [
    "4)"
   ]
  },
  {
   "cell_type": "code",
   "execution_count": 11,
   "metadata": {},
   "outputs": [
    {
     "name": "stdout",
     "output_type": "stream",
     "text": [
      "el resultado de 0 a la 3 es 0\n",
      "el resultado de 1 a la 3 es 3\n",
      "el resultado de 2 a la 3 es 6\n",
      "el resultado de 3 a la 3 es 9\n",
      "el resultado de 4 a la 3 es 12\n",
      "el resultado de 5 a la 3 es 15\n"
     ]
    }
   ],
   "source": [
    "for n in range (0, 6):\n",
    "    print (f\"el resultado de {str(n)} a la 3 es \" + str(n*3))"
   ]
  },
  {
   "attachments": {},
   "cell_type": "markdown",
   "metadata": {},
   "source": [
    "5)"
   ]
  },
  {
   "cell_type": "code",
   "execution_count": 26,
   "metadata": {},
   "outputs": [
    {
     "name": "stdout",
     "output_type": "stream",
     "text": [
      "el ciclo se repite\n",
      "el ciclo se repite\n",
      "el ciclo se repite\n",
      "el ciclo se repite\n",
      "el ciclo se repite\n"
     ]
    }
   ],
   "source": [
    "numero = 5\n",
    "for i in range(numero):\n",
    "    print (\"el ciclo se repite\")"
   ]
  },
  {
   "attachments": {},
   "cell_type": "markdown",
   "metadata": {},
   "source": [
    "6) Utilizar un ciclo while para realizar el factorial de un número guardado en una variable, sólo si la variable contiene un número entero mayor a 0"
   ]
  },
  {
   "cell_type": "code",
   "execution_count": 1,
   "metadata": {},
   "outputs": [
    {
     "data": {
      "text/plain": [
       "720"
      ]
     },
     "execution_count": 1,
     "metadata": {},
     "output_type": "execute_result"
    }
   ],
   "source": []
  },
  {
   "cell_type": "code",
   "execution_count": 49,
   "metadata": {},
   "outputs": [
    {
     "name": "stdout",
     "output_type": "stream",
     "text": [
      "720\n",
      "el numero de ciclos es 6\n"
     ]
    }
   ],
   "source": [
    "numero = 6\n",
    "n = numero\n",
    "numero_de_ciclos = 1 \n",
    "if type(numero) == int:\n",
    "    while (numero != 1):\n",
    "        numero -= 1\n",
    "        n *= numero\n",
    "        numero_de_ciclos += 1\n",
    "    print(n)\n",
    "print (\"el numero de ciclos es\", numero_de_ciclos)"
   ]
  },
  {
   "attachments": {},
   "cell_type": "markdown",
   "metadata": {},
   "source": [
    "7) "
   ]
  },
  {
   "cell_type": "code",
   "execution_count": 12,
   "metadata": {},
   "outputs": [
    {
     "name": "stdout",
     "output_type": "stream",
     "text": [
      "0\n",
      "1\n",
      "0\n",
      "1\n",
      "2\n",
      "0\n",
      "1\n",
      "2\n",
      "3\n",
      "0\n",
      "1\n",
      "2\n",
      "3\n",
      "4\n",
      "0\n",
      "1\n",
      "2\n",
      "3\n",
      "4\n",
      "5\n",
      "0\n",
      "1\n",
      "2\n",
      "3\n",
      "4\n",
      "5\n",
      "6\n",
      "0\n",
      "1\n",
      "2\n",
      "3\n",
      "4\n",
      "5\n",
      "6\n",
      "7\n",
      "0\n",
      "1\n",
      "2\n",
      "3\n",
      "4\n",
      "5\n",
      "6\n",
      "7\n",
      "8\n"
     ]
    }
   ],
   "source": [
    "n = 2\n",
    "while (n < 10):\n",
    "    for number in range (n):\n",
    "        print (number)\n",
    "    n = n + 1"
   ]
  },
  {
   "attachments": {},
   "cell_type": "markdown",
   "metadata": {},
   "source": [
    "8)"
   ]
  },
  {
   "cell_type": "code",
   "execution_count": 28,
   "metadata": {},
   "outputs": [
    {
     "name": "stdout",
     "output_type": "stream",
     "text": [
      "0\n",
      "1\n",
      "2\n",
      "3\n",
      "4\n",
      "5\n",
      "6\n",
      "7\n",
      "8\n",
      "9\n",
      "10\n"
     ]
    }
   ],
   "source": [
    "for i in range (0,11):\n",
    "    while (i < 11):\n",
    "        print (i)\n",
    "        break"
   ]
  },
  {
   "attachments": {},
   "cell_type": "markdown",
   "metadata": {},
   "source": [
    "9) Imprimir los números primos existentes entre 0 y 30"
   ]
  },
  {
   "cell_type": "code",
   "execution_count": 1,
   "metadata": {},
   "outputs": [
    {
     "name": "stdout",
     "output_type": "stream",
     "text": [
      "3\n",
      "5\n",
      "7\n",
      "9\n",
      "11\n",
      "13\n",
      "15\n",
      "17\n",
      "19\n",
      "21\n",
      "23\n",
      "25\n",
      "27\n",
      "29\n",
      "los ciclos son 30\n"
     ]
    }
   ],
   "source": [
    "ciclos = 1\n",
    "for n in range (2,31):\n",
    "    primos = True\n",
    "    if n % 2 == 0:\n",
    "        primos = False\n",
    "    else:\n",
    "        print(n)\n",
    "    ciclos += 1\n",
    "print (\"los ciclos son\", ciclos)"
   ]
  },
  {
   "cell_type": "code",
   "execution_count": null,
   "metadata": {},
   "outputs": [],
   "source": []
  },
  {
   "attachments": {},
   "cell_type": "markdown",
   "metadata": {},
   "source": [
    "10)"
   ]
  },
  {
   "cell_type": "code",
   "execution_count": 15,
   "metadata": {},
   "outputs": [
    {
     "name": "stdout",
     "output_type": "stream",
     "text": [
      "2\n",
      "3\n",
      "5\n",
      "7\n",
      "11\n",
      "13\n",
      "17\n",
      "19\n",
      "23\n",
      "29\n"
     ]
    }
   ],
   "source": [
    "minimo = 1\n",
    "maximo = 30\n",
    "for n in range ((minimo + 1), (maximo + 1)):\n",
    "    primo = True\n",
    "    j = 2\n",
    "    while (j < n):\n",
    "        if (n % j == 0):\n",
    "            primo = False\n",
    "            break\n",
    "        j = j + 1\n",
    "    if (primo == True):\n",
    "        print(n) \n"
   ]
  },
  {
   "attachments": {},
   "cell_type": "markdown",
   "metadata": {},
   "source": [
    "11)"
   ]
  },
  {
   "attachments": {},
   "cell_type": "markdown",
   "metadata": {},
   "source": [
    "no optimizado"
   ]
  },
  {
   "cell_type": "code",
   "execution_count": 17,
   "metadata": {},
   "outputs": [
    {
     "name": "stdout",
     "output_type": "stream",
     "text": [
      "2\n",
      "3\n",
      "5\n",
      "7\n",
      "11\n",
      "13\n",
      "17\n",
      "19\n",
      "23\n",
      "29\n",
      "la cantidad de ciclos es 29\n"
     ]
    }
   ],
   "source": [
    "minimo = 1\n",
    "maximo = 30\n",
    "numero_de_ciclos = 0\n",
    "for n in range ((minimo + 1), (maximo + 1)):\n",
    "    primo = True\n",
    "    j = 2\n",
    "    while (j < n):\n",
    "        if (n % j == 0):\n",
    "            primo = False\n",
    "        j = j + 1\n",
    "    if (primo == True):\n",
    "        print(n)\n",
    "    numero_de_ciclos +=1    \n",
    "print (\"la cantidad de ciclos es \" + str(numero_de_ciclos))"
   ]
  },
  {
   "attachments": {},
   "cell_type": "markdown",
   "metadata": {},
   "source": [
    "optimizado"
   ]
  },
  {
   "cell_type": "code",
   "execution_count": 16,
   "metadata": {},
   "outputs": [
    {
     "name": "stdout",
     "output_type": "stream",
     "text": [
      "2\n",
      "3\n",
      "5\n",
      "7\n",
      "11\n",
      "13\n",
      "17\n",
      "19\n",
      "23\n",
      "29\n",
      "la cantidad de ciclos es 29\n"
     ]
    }
   ],
   "source": [
    "minimo = 1\n",
    "maximo = 30\n",
    "numero_de_ciclos = 0\n",
    "for n in range ((minimo + 1), (maximo + 1)):\n",
    "    primo = True\n",
    "    j = 2\n",
    "    numero_de_ciclos +=1  \n",
    "    while (j < n):\n",
    "        if (n % j == 0):\n",
    "            primo = False\n",
    "            break\n",
    "        j = j + 1\n",
    "    if (primo == True):\n",
    "        print(n)\n",
    "print(\"la cantidad de ciclos es \" + str(numero_de_ciclos)) "
   ]
  },
  {
   "attachments": {},
   "cell_type": "markdown",
   "metadata": {},
   "source": [
    "14)"
   ]
  },
  {
   "cell_type": "code",
   "execution_count": 2,
   "metadata": {},
   "outputs": [
    {
     "name": "stdout",
     "output_type": "stream",
     "text": [
      "3\n",
      "si desea buscar el numero primo, ingrese 'sí'\n",
      "5\n",
      "si desea buscar el numero primo, ingrese 'sí'\n",
      "7\n",
      "si desea buscar el numero primo, ingrese 'sí'\n",
      "9\n",
      "si desea buscar el numero primo, ingrese 'sí'\n",
      "3\n",
      "si desea buscar el numero primo, ingrese 'sí'\n",
      "5\n",
      "si desea buscar el numero primo, ingrese 'sí'\n",
      "7\n",
      "si desea buscar el numero primo, ingrese 'sí'\n",
      "proceso terminado\n",
      "9\n",
      "si desea buscar el numero primo, ingrese 'sí'\n",
      "proceso terminado\n",
      "11\n",
      "si desea buscar el numero primo, ingrese 'sí'\n",
      "proceso terminado\n",
      "13\n",
      "si desea buscar el numero primo, ingrese 'sí'\n",
      "proceso terminado\n",
      "15\n",
      "si desea buscar el numero primo, ingrese 'sí'\n"
     ]
    },
    {
     "ename": "",
     "evalue": "",
     "output_type": "error",
     "traceback": [
      "\u001b[1;31mCanceled future for execute_request message before replies were done"
     ]
    },
    {
     "ename": "",
     "evalue": "",
     "output_type": "error",
     "traceback": [
      "\u001b[1;31mThe Kernel crashed while executing code in the the current cell or a previous cell. Please review the code in the cell(s) to identify a possible cause of the failure. Click <a href='https://aka.ms/vscodeJupyterKernelCrash'>here</a> for more info. View Jupyter <a href='command:jupyter.viewOutput'>log</a> for further details."
     ]
    }
   ],
   "source": [
    "numero_tope=1\n",
    "proceso = True\n",
    "while proceso:    \n",
    "    for n in range (2, numero_tope):          \n",
    "        if n % 2 == 0:\n",
    "            primos = False\n",
    "        else:\n",
    "            print(n)\n",
    "            print(\"si desea buscar el numero primo, ingrese 'sí'\")\n",
    "            if (input() != \"sí\"):\n",
    "                print (\"proceso terminado\")\n",
    "                proceso = False            \n",
    "    numero_tope +=10          "
   ]
  },
  {
   "attachments": {},
   "cell_type": "markdown",
   "metadata": {},
   "source": [
    "13) Aplicando continue, armar un ciclo while que solo imprima los valores divisibles por 12, dentro del rango de números de 100 a 300"
   ]
  },
  {
   "cell_type": "code",
   "execution_count": 76,
   "metadata": {},
   "outputs": [
    {
     "name": "stdout",
     "output_type": "stream",
     "text": [
      "108 es divisible por 12\n",
      "120 es divisible por 12\n",
      "132 es divisible por 12\n",
      "144 es divisible por 12\n",
      "156 es divisible por 12\n",
      "168 es divisible por 12\n",
      "180 es divisible por 12\n",
      "192 es divisible por 12\n",
      "204 es divisible por 12\n",
      "216 es divisible por 12\n",
      "228 es divisible por 12\n",
      "240 es divisible por 12\n",
      "252 es divisible por 12\n",
      "264 es divisible por 12\n",
      "276 es divisible por 12\n",
      "288 es divisible por 12\n",
      "300 es divisible por 12\n"
     ]
    }
   ],
   "source": [
    "for n in range (100,301):\n",
    "    if (n % 12 != 0):\n",
    "        continue    \n",
    "    else: \n",
    "        print(n, \"es divisible por 12\")"
   ]
  },
  {
   "attachments": {},
   "cell_type": "markdown",
   "metadata": {},
   "source": [
    "14) Utilizar la función **input()** que permite hacer ingresos por teclado, para encontrar números primos y dar la opción al usario de buscar el siguiente"
   ]
  },
  {
   "cell_type": "code",
   "execution_count": 1,
   "metadata": {},
   "outputs": [
    {
     "name": "stdout",
     "output_type": "stream",
     "text": [
      "1\n",
      "¿Desea encontrar el siguiente número primo? Escriba \"continuar\" si es así\n",
      "2\n",
      "¿Desea encontrar el siguiente número primo? Escriba \"continuar\" si es así\n",
      "3\n",
      "¿Desea encontrar el siguiente número primo? Escriba \"continuar\" si es así\n",
      "Se finaliza el proceso\n"
     ]
    }
   ],
   "source": [
    "n = 1\n",
    "sigue = \"continuar\"\n",
    "primo = True\n",
    "while (sigue == \"continuar\"):\n",
    "    for div in range(2, n):\n",
    "        if (n % 2 == 0):\n",
    "            primo = False\n",
    "            break\n",
    "    if (primo):\n",
    "        print(n)\n",
    "        print('¿Desea encontrar el siguiente número primo? Escriba \"continuar\" si es así')\n",
    "        if (input() != 'continuar'):\n",
    "            print('Se finaliza el proceso')\n",
    "            break\n",
    "    else:\n",
    "        primo = True\n",
    "    n += 1\n"
   ]
  },
  {
   "attachments": {},
   "cell_type": "markdown",
   "metadata": {},
   "source": [
    "15) Crear un ciclo while que encuentre dentro del rango de 100 a 300 el primer número divisible por 3 y además múltiplo de 6"
   ]
  },
  {
   "cell_type": "code",
   "execution_count": 3,
   "metadata": {},
   "outputs": [
    {
     "name": "stdout",
     "output_type": "stream",
     "text": [
      "102\n"
     ]
    }
   ],
   "source": [
    "for i in range (100, 301):\n",
    "    if (i % 6 == 0):\n",
    "       print(i)\n",
    "       break "
   ]
  },
  {
   "attachments": {},
   "cell_type": "markdown",
   "metadata": {},
   "source": [
    "Imprimir los números primos existentes entre 0 y 30"
   ]
  },
  {
   "cell_type": "code",
   "execution_count": 3,
   "metadata": {},
   "outputs": [
    {
     "name": "stdout",
     "output_type": "stream",
     "text": [
      "3\n",
      "5\n",
      "7\n",
      "9\n",
      "11\n",
      "13\n",
      "15\n",
      "17\n",
      "19\n",
      "21\n",
      "23\n",
      "25\n",
      "27\n",
      "29\n"
     ]
    }
   ],
   "source": [
    "for i in range (2, 31):\n",
    "    primos = True\n",
    "    if (i % 2 == 0):\n",
    "        primos = False\n",
    "    else:\n",
    "        print(i)"
   ]
  },
  {
   "attachments": {},
   "cell_type": "markdown",
   "metadata": {},
   "source": [
    "14) Utilizar la función **input()** que permite hacer ingresos por teclado, para encontrar números primos y dar la opción al usario de buscar el siguiente"
   ]
  },
  {
   "cell_type": "code",
   "execution_count": null,
   "metadata": {},
   "outputs": [],
   "source": []
  },
  {
   "cell_type": "code",
   "execution_count": 39,
   "metadata": {},
   "outputs": [
    {
     "ename": "KeyboardInterrupt",
     "evalue": "",
     "output_type": "error",
     "traceback": [
      "\u001b[1;31m---------------------------------------------------------------------------\u001b[0m",
      "\u001b[1;31mKeyboardInterrupt\u001b[0m                         Traceback (most recent call last)",
      "Cell \u001b[1;32mIn[39], line 3\u001b[0m\n\u001b[0;32m      1\u001b[0m n \u001b[39m=\u001b[39m \u001b[39m3\u001b[39m\n\u001b[0;32m      2\u001b[0m primo \u001b[39m=\u001b[39m \u001b[39mTrue\u001b[39;00m\n\u001b[1;32m----> 3\u001b[0m \u001b[39mwhile\u001b[39;00m \u001b[39mTrue\u001b[39;00m:\n\u001b[0;32m      5\u001b[0m     \u001b[39mif\u001b[39;00m (n \u001b[39m%\u001b[39m \u001b[39m2\u001b[39m \u001b[39m==\u001b[39m \u001b[39m0\u001b[39m):\n\u001b[0;32m      6\u001b[0m         primo \u001b[39m=\u001b[39m \u001b[39mFalse\u001b[39;00m \n",
      "\u001b[1;31mKeyboardInterrupt\u001b[0m: "
     ]
    }
   ],
   "source": [
    "n = 3\n",
    "primo = True\n",
    "while True:\n",
    "     \n",
    "    if (n % 2 == 0):\n",
    "        primo = False \n",
    "         \n",
    "    else:\n",
    "        print(n, \"es primo\")\n",
    "        print(\"¿desea continuar?\")\n",
    "        if (input() != \"sí\"):\n",
    "            break    \n",
    "         \n",
    "    n += 1"
   ]
  }
 ],
 "metadata": {
  "kernelspec": {
   "display_name": "Python 3",
   "language": "python",
   "name": "python3"
  },
  "language_info": {
   "codemirror_mode": {
    "name": "ipython",
    "version": 3
   },
   "file_extension": ".py",
   "mimetype": "text/x-python",
   "name": "python",
   "nbconvert_exporter": "python",
   "pygments_lexer": "ipython3",
   "version": "3.11.0"
  },
  "orig_nbformat": 4
 },
 "nbformat": 4,
 "nbformat_minor": 2
}
